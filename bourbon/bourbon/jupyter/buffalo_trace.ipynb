{
 "cells": [
  {
   "cell_type": "code",
   "execution_count": 2,
   "metadata": {},
   "outputs": [],
   "source": [
    "from bs4 import BeautifulSoup\n",
    "import pandas as pd\n",
    "import requests\n",
    "from os import environ, getcwd\n",
    "from importlib import resources\n",
    "from bourbon.get_bourbon import get_all_bourbons\n",
    "from sys import path as pythonpath, modules\n",
    "import plotly.express as pe"
   ]
  },
  {
   "cell_type": "code",
   "execution_count": 3,
   "metadata": {},
   "outputs": [],
   "source": [
    "my_url = \"https://www.buffalotracedistillery.com/product-availability\"\n",
    "my_page = requests.get(my_url)"
   ]
  },
  {
   "cell_type": "code",
   "execution_count": 4,
   "metadata": {},
   "outputs": [
    {
     "name": "stdout",
     "output_type": "stream",
     "text": [
      "None\n",
      "None\n",
      "Buffalo Trace In Stock;Sold Out http://buffalotracedistillery.com//visit-us/tasting-and-purchasing/product-availability/_jcr_content/root/container/container_956096526/container_1233806282_1898181970/image.coreimg.png/1633643656190/buffalo-trace-bottle.png\n",
      "None\n",
      "None\n",
      "Eagle Rare In Stock;Sold Out http://buffalotracedistillery.com//visit-us/tasting-and-purchasing/product-availability/_jcr_content/root/container/container_956096526/container_1233806282/image.coreimg.png/1662817290681/eagle-rare-bottle.png\n",
      "None\n",
      "None\n",
      "E.H. Taylor Jr. Small Batch In Stock;Sold Out http://buffalotracedistillery.com//visit-us/tasting-and-purchasing/product-availability/_jcr_content/root/container/container_956096526/container_1233806282_319116081/image.coreimg.png/1660934019013/eh-taylor-small-batch.png\n",
      "skipping 3\n",
      "skipping 4\n",
      "skipping 5\n",
      "None\n",
      "None\n",
      "Blanton’s Single Barrel In Stock;Sold Out http://buffalotracedistillery.com//visit-us/tasting-and-purchasing/product-availability/_jcr_content/root/container/container_956096526/container_1233806282_861464019/image.coreimg.png/1650638810298/blantons-bottle.png\n",
      "None\n",
      "None\n",
      "W.L. Weller Special Reserve In Stock;Sold Out http://buffalotracedistillery.com//visit-us/tasting-and-purchasing/product-availability/_jcr_content/root/container/container_956096526/container_1233806282_1063833036/image.coreimg.png/1655731815933/weller-special-reserve-bottle.png\n",
      "None\n",
      "None\n",
      "Sazerac Rye In Stock;Sold Out http://buffalotracedistillery.com//visit-us/tasting-and-purchasing/product-availability/_jcr_content/root/container/container_956096526/container_1233806282_1251964478/image.coreimg.png/1662918284940/sazerac-rye-bottle.png\n",
      "skipping 9\n",
      "skipping 10\n",
      "None\n",
      "None\n",
      "Wheatley In Stock;Sold Out http://buffalotracedistillery.com//visit-us/tasting-and-purchasing/product-availability/_jcr_content/root/container/container_956096526/container_1233806282_362149929/image.coreimg.png/1633643807651/wheatley-bottle.png\n",
      "None\n",
      "None\n",
      "Bourbon Cream In Stock;Sold Out http://buffalotracedistillery.com//visit-us/tasting-and-purchasing/product-availability/_jcr_content/root/container/container_956096526/container_1233806282_1371863384/image.coreimg.png/1655812803849/bourbon-cream-bottle.png\n"
     ]
    }
   ],
   "source": [
    "my_soup = BeautifulSoup(my_page.text)\n",
    "products = my_soup.select(\"div#product-availability-bottle-container > div > div > div\")\n",
    "\n",
    "# save a sample \n",
    "with resources.path(\"bourbon.jupyter.data\", \"sample_html.html\") as f: \n",
    "    # sample data \n",
    "    sample_data = products[0]\n",
    "    f.write_text(sample_data.decode_contents(2))\n",
    "\n",
    "img_sel = \"div > div.image.section > div > noscript > img\"\n",
    "title_sel = \"div > div.title.section > div > h3\"\n",
    "avail_sel = \"div > div.htmlblock.section > div > div > h4\"\n",
    "avail_vis = \"div > div.htmlblock.section > div > div > h4\"\n",
    "\n",
    "for ind, category in enumerate(products): \n",
    "    if len(category.select(title_sel)) == 0:\n",
    "        print(f\"skipping {ind}\")\n",
    "        continue\n",
    "    \n",
    "    title = category.select(title_sel)[0].get_text()\n",
    "    avail = \";\".join([x.get_text() for x in category.select(avail_sel)])\n",
    "\n",
    "    for a in category.select(avail_sel): \n",
    "        print(a.get('style'))\n",
    "\n",
    "    image_comp = category.select(img_sel)[0].get(\"src\")\n",
    "    image_link = f'http://buffalotracedistillery.com/{image_comp}'\n",
    "\n",
    "    print(title,avail, image_link)\n",
    "\n"
   ]
  },
  {
   "cell_type": "code",
   "execution_count": 1,
   "metadata": {},
   "outputs": [],
   "source": [
    "# iterator\n",
    "for ind, product in enumerate(products): \n",
    "    product_text = str(product.text).strip()\n",
    "\n",
    "    product_image_link = product.find(\"div > div > \")\n",
    "\n",
    "    # product_image = product.find(\"div.cmp-container.cmp-container__responsive > div > img\")"
   ]
  }
 ],
 "metadata": {
  "kernelspec": {
   "display_name": ".venv",
   "language": "python",
   "name": "python3"
  },
  "language_info": {
   "codemirror_mode": {
    "name": "ipython",
    "version": 3
   },
   "file_extension": ".py",
   "mimetype": "text/x-python",
   "name": "python",
   "nbconvert_exporter": "python",
   "pygments_lexer": "ipython3",
   "version": "3.10.0"
  },
  "orig_nbformat": 4,
  "vscode": {
   "interpreter": {
    "hash": "6aace7b8939080be9b8167c7291b2a7526347ab26036f6f4c0f4631a9c51d189"
   }
  }
 },
 "nbformat": 4,
 "nbformat_minor": 2
}
