{
 "cells": [
  {
   "attachments": {},
   "cell_type": "markdown",
   "metadata": {},
   "source": [
    "# Data Exploration\n",
    "----\n",
    "\n",
    "This notebook explores and accesses data from the file based database for buffalo trace"
   ]
  },
  {
   "cell_type": "code",
   "execution_count": 1,
   "metadata": {},
   "outputs": [],
   "source": [
    "import sqlalchemy \n",
    "import pandas as pd \n",
    "from importlib import resources\n",
    "import datetime as dt\n",
    "from plotly import express as pe"
   ]
  },
  {
   "cell_type": "code",
   "execution_count": 2,
   "metadata": {},
   "outputs": [
    {
     "name": "stderr",
     "output_type": "stream",
     "text": [
      "/var/folders/vz/x1_phppx4jlfxt612qb8vcs80000gn/T/ipykernel_97989/3650293179.py:4: RemovedIn20Warning: Deprecated API features detected! These feature(s) are not compatible with SQLAlchemy 2.0. To prevent incompatible upgrades prior to updating applications, ensure requirements files are pinned to \"sqlalchemy<2.0\". Set environment variable SQLALCHEMY_WARN_20=1 to show all deprecation warnings.  Set environment variable SQLALCHEMY_SILENCE_UBER_WARNING=1 to silence this message. (Background on SQLAlchemy 2.0 at: https://sqlalche.me/e/b8d9)\n",
      "  latest_date = my_conn.execute(\"select max(update_date) from product_avail\").fetchone()[0]\n"
     ]
    },
    {
     "data": {
      "text/html": [
       "<div>\n",
       "<style scoped>\n",
       "    .dataframe tbody tr th:only-of-type {\n",
       "        vertical-align: middle;\n",
       "    }\n",
       "\n",
       "    .dataframe tbody tr th {\n",
       "        vertical-align: top;\n",
       "    }\n",
       "\n",
       "    .dataframe thead th {\n",
       "        text-align: right;\n",
       "    }\n",
       "</style>\n",
       "<table border=\"1\" class=\"dataframe\">\n",
       "  <thead>\n",
       "    <tr style=\"text-align: right;\">\n",
       "      <th></th>\n",
       "      <th>product_title</th>\n",
       "      <th>update_date</th>\n",
       "      <th>product_available</th>\n",
       "    </tr>\n",
       "  </thead>\n",
       "  <tbody>\n",
       "    <tr>\n",
       "      <th>0</th>\n",
       "      <td>Buffalo Trace</td>\n",
       "      <td>2023-01-16 12:35:00.000000</td>\n",
       "      <td>0</td>\n",
       "    </tr>\n",
       "    <tr>\n",
       "      <th>1</th>\n",
       "      <td>Eagle Rare</td>\n",
       "      <td>2023-01-16 12:35:00.000000</td>\n",
       "      <td>0</td>\n",
       "    </tr>\n",
       "    <tr>\n",
       "      <th>2</th>\n",
       "      <td>E.H. Taylor Jr. Small Batch</td>\n",
       "      <td>2023-01-16 12:35:00.000000</td>\n",
       "      <td>0</td>\n",
       "    </tr>\n",
       "    <tr>\n",
       "      <th>3</th>\n",
       "      <td>Blanton’s Single Barrel</td>\n",
       "      <td>2023-01-16 12:35:00.000000</td>\n",
       "      <td>0</td>\n",
       "    </tr>\n",
       "    <tr>\n",
       "      <th>4</th>\n",
       "      <td>W.L. Weller Special Reserve</td>\n",
       "      <td>2023-01-16 12:35:00.000000</td>\n",
       "      <td>0</td>\n",
       "    </tr>\n",
       "    <tr>\n",
       "      <th>5</th>\n",
       "      <td>Sazerac Rye</td>\n",
       "      <td>2023-01-16 12:35:00.000000</td>\n",
       "      <td>1</td>\n",
       "    </tr>\n",
       "    <tr>\n",
       "      <th>6</th>\n",
       "      <td>Wheatley</td>\n",
       "      <td>2023-01-16 12:35:00.000000</td>\n",
       "      <td>1</td>\n",
       "    </tr>\n",
       "    <tr>\n",
       "      <th>7</th>\n",
       "      <td>Bourbon Cream</td>\n",
       "      <td>2023-01-16 12:35:00.000000</td>\n",
       "      <td>0</td>\n",
       "    </tr>\n",
       "  </tbody>\n",
       "</table>\n",
       "</div>"
      ],
      "text/plain": [
       "                 product_title                 update_date  product_available\n",
       "0                Buffalo Trace  2023-01-16 12:35:00.000000                  0\n",
       "1                   Eagle Rare  2023-01-16 12:35:00.000000                  0\n",
       "2  E.H. Taylor Jr. Small Batch  2023-01-16 12:35:00.000000                  0\n",
       "3      Blanton’s Single Barrel  2023-01-16 12:35:00.000000                  0\n",
       "4  W.L. Weller Special Reserve  2023-01-16 12:35:00.000000                  0\n",
       "5                  Sazerac Rye  2023-01-16 12:35:00.000000                  1\n",
       "6                     Wheatley  2023-01-16 12:35:00.000000                  1\n",
       "7                Bourbon Cream  2023-01-16 12:35:00.000000                  0"
      ]
     },
     "execution_count": 2,
     "metadata": {},
     "output_type": "execute_result"
    }
   ],
   "source": [
    "with resources.path(\"bourbon\",\"buffalo_trace.db\") as f: \n",
    "    my_conn = sqlalchemy.create_engine(f\"sqlite:////{f.absolute()}\")\n",
    "\n",
    "latest_date = my_conn.execute(\"select max(update_date) from product_avail\").fetchone()[0]\n",
    "today_batch = pd.read_sql(f\"select distinct * from product_avail where update_date='{latest_date}'\", con=my_conn)\n",
    "today_batch"
   ]
  },
  {
   "attachments": {},
   "cell_type": "markdown",
   "metadata": {},
   "source": [
    "## Clean SQL"
   ]
  },
  {
   "cell_type": "code",
   "execution_count": 20,
   "metadata": {},
   "outputs": [
    {
     "data": {
      "text/html": [
       "<div>\n",
       "<style scoped>\n",
       "    .dataframe tbody tr th:only-of-type {\n",
       "        vertical-align: middle;\n",
       "    }\n",
       "\n",
       "    .dataframe tbody tr th {\n",
       "        vertical-align: top;\n",
       "    }\n",
       "\n",
       "    .dataframe thead th {\n",
       "        text-align: right;\n",
       "    }\n",
       "</style>\n",
       "<table border=\"1\" class=\"dataframe\">\n",
       "  <thead>\n",
       "    <tr style=\"text-align: right;\">\n",
       "      <th></th>\n",
       "      <th>update_date</th>\n",
       "      <th>product_count</th>\n",
       "    </tr>\n",
       "  </thead>\n",
       "  <tbody>\n",
       "    <tr>\n",
       "      <th>0</th>\n",
       "      <td>2023-01-16 10:00:00.000000</td>\n",
       "      <td>8</td>\n",
       "    </tr>\n",
       "    <tr>\n",
       "      <th>1</th>\n",
       "      <td>2023-01-16 10:45:00.000000</td>\n",
       "      <td>48</td>\n",
       "    </tr>\n",
       "  </tbody>\n",
       "</table>\n",
       "</div>"
      ],
      "text/plain": [
       "                  update_date  product_count\n",
       "0  2023-01-16 10:00:00.000000              8\n",
       "1  2023-01-16 10:45:00.000000             48"
      ]
     },
     "execution_count": 20,
     "metadata": {},
     "output_type": "execute_result"
    }
   ],
   "source": [
    "pd.read_sql(\"select distinct update_date, count(product_title) as product_count from product_avail group by update_date\", con=my_conn)"
   ]
  },
  {
   "cell_type": "code",
   "execution_count": 17,
   "metadata": {},
   "outputs": [
    {
     "data": {
      "text/html": [
       "<div>\n",
       "<style scoped>\n",
       "    .dataframe tbody tr th:only-of-type {\n",
       "        vertical-align: middle;\n",
       "    }\n",
       "\n",
       "    .dataframe tbody tr th {\n",
       "        vertical-align: top;\n",
       "    }\n",
       "\n",
       "    .dataframe thead th {\n",
       "        text-align: right;\n",
       "    }\n",
       "</style>\n",
       "<table border=\"1\" class=\"dataframe\">\n",
       "  <thead>\n",
       "    <tr style=\"text-align: right;\">\n",
       "      <th></th>\n",
       "      <th>product_title</th>\n",
       "      <th>product_image</th>\n",
       "    </tr>\n",
       "  </thead>\n",
       "  <tbody>\n",
       "    <tr>\n",
       "      <th>0</th>\n",
       "      <td>Buffalo Trace</td>\n",
       "      <td>http://buffalotracedistillery.com/content/dam/...</td>\n",
       "    </tr>\n",
       "    <tr>\n",
       "      <th>1</th>\n",
       "      <td>Eagle Rare</td>\n",
       "      <td>http://buffalotracedistillery.com/content/dam/...</td>\n",
       "    </tr>\n",
       "    <tr>\n",
       "      <th>2</th>\n",
       "      <td>E.H. Taylor Jr. Small Batch</td>\n",
       "      <td>http://buffalotracedistillery.com/content/dam/...</td>\n",
       "    </tr>\n",
       "    <tr>\n",
       "      <th>3</th>\n",
       "      <td>Blanton’s Single Barrel</td>\n",
       "      <td>http://buffalotracedistillery.com/content/dam/...</td>\n",
       "    </tr>\n",
       "    <tr>\n",
       "      <th>4</th>\n",
       "      <td>W.L. Weller Special Reserve</td>\n",
       "      <td>http://buffalotracedistillery.com/content/dam/...</td>\n",
       "    </tr>\n",
       "    <tr>\n",
       "      <th>5</th>\n",
       "      <td>Sazerac Rye</td>\n",
       "      <td>http://buffalotracedistillery.com/content/dam/...</td>\n",
       "    </tr>\n",
       "    <tr>\n",
       "      <th>6</th>\n",
       "      <td>Wheatley</td>\n",
       "      <td>http://buffalotracedistillery.com/content/dam/...</td>\n",
       "    </tr>\n",
       "    <tr>\n",
       "      <th>7</th>\n",
       "      <td>Bourbon Cream</td>\n",
       "      <td>http://buffalotracedistillery.com/content/dam/...</td>\n",
       "    </tr>\n",
       "  </tbody>\n",
       "</table>\n",
       "</div>"
      ],
      "text/plain": [
       "                 product_title  \\\n",
       "0                Buffalo Trace   \n",
       "1                   Eagle Rare   \n",
       "2  E.H. Taylor Jr. Small Batch   \n",
       "3      Blanton’s Single Barrel   \n",
       "4  W.L. Weller Special Reserve   \n",
       "5                  Sazerac Rye   \n",
       "6                     Wheatley   \n",
       "7                Bourbon Cream   \n",
       "\n",
       "                                       product_image  \n",
       "0  http://buffalotracedistillery.com/content/dam/...  \n",
       "1  http://buffalotracedistillery.com/content/dam/...  \n",
       "2  http://buffalotracedistillery.com/content/dam/...  \n",
       "3  http://buffalotracedistillery.com/content/dam/...  \n",
       "4  http://buffalotracedistillery.com/content/dam/...  \n",
       "5  http://buffalotracedistillery.com/content/dam/...  \n",
       "6  http://buffalotracedistillery.com/content/dam/...  \n",
       "7  http://buffalotracedistillery.com/content/dam/...  "
      ]
     },
     "execution_count": 17,
     "metadata": {},
     "output_type": "execute_result"
    }
   ],
   "source": [
    "pd.read_sql(\"select * from product_ext\", con=my_conn)"
   ]
  },
  {
   "cell_type": "code",
   "execution_count": 19,
   "metadata": {},
   "outputs": [
    {
     "data": {
      "text/plain": [
       "datetime.datetime(2023, 1, 16, 10, 45)"
      ]
     },
     "execution_count": 19,
     "metadata": {},
     "output_type": "execute_result"
    }
   ],
   "source": [
    "dt.datetime.strptime(my_conn.execute(\"select max(update_date) from product_avail\").fetchone()[0], '%Y-%m-%d %H:%M:%S.%f')"
   ]
  }
 ],
 "metadata": {
  "kernelspec": {
   "display_name": ".venv",
   "language": "python",
   "name": "python3"
  },
  "language_info": {
   "codemirror_mode": {
    "name": "ipython",
    "version": 3
   },
   "file_extension": ".py",
   "mimetype": "text/x-python",
   "name": "python",
   "nbconvert_exporter": "python",
   "pygments_lexer": "ipython3",
   "version": "3.10.0"
  },
  "orig_nbformat": 4,
  "vscode": {
   "interpreter": {
    "hash": "6aace7b8939080be9b8167c7291b2a7526347ab26036f6f4c0f4631a9c51d189"
   }
  }
 },
 "nbformat": 4,
 "nbformat_minor": 2
}
