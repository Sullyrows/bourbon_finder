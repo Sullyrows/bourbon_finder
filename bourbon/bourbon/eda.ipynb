{
 "cells": [
  {
   "cell_type": "code",
   "execution_count": 105,
   "metadata": {},
   "outputs": [],
   "source": [
    "from bs4 import BeautifulSoup\n",
    "from importlib import resources\n",
    "from urllib.parse import unquote_plus\n",
    "import re\n",
    "import json "
   ]
  },
  {
   "cell_type": "code",
   "execution_count": 106,
   "metadata": {},
   "outputs": [],
   "source": [
    "with resources.path(\"my_data\",\"page.html\") as f: \n",
    "    my_soup = BeautifulSoup(f.read_text())"
   ]
  },
  {
   "cell_type": "code",
   "execution_count": 107,
   "metadata": {},
   "outputs": [],
   "source": [
    "# helper functions to trim quotes \n",
    "def trim_quotes(my_string: str): \n",
    "    # trim leading and trailing quotes\n",
    "    my_string =re.sub(pattern=r\"([\\'|\\\"]*)$\", string=my_string, repl='')\n",
    "    my_string = re.sub(pattern=r\"^([\\'|\\\"]*)\", string=my_string, repl='')\n",
    "\n",
    "    return my_string"
   ]
  },
  {
   "cell_type": "code",
   "execution_count": 117,
   "metadata": {},
   "outputs": [
    {
     "name": "stdout",
     "output_type": "stream",
     "text": [
      "correct ele\n"
     ]
    }
   ],
   "source": [
    "_match_ele = r\"(?<=decodeURIComponent\\()(.+)(?=\\\"\\)\\)\\;)\"\n",
    "correct_ele_reg = r\"([\\ ]*e\\ =\\ document\\.createElement\\(\\'ch-elements\\.search-results\\'\\);)\"\n",
    "\n",
    "for script in my_soup.select('script'): \n",
    "\n",
    "    # Check for previous element declared \n",
    "    correct_ele = bool(re.findall(correct_ele_reg, script.text, flags=re.DOTALL))\n",
    "\n",
    "    if correct_ele:\n",
    "        print(\"correct ele\")\n",
    "        match_data = re.findall(pattern=_match_ele, string=script.text, flags=re.DOTALL)\n",
    "        my_text = trim_quotes(unquote_plus(match_data[0]))"
   ]
  },
  {
   "cell_type": "code",
   "execution_count": 118,
   "metadata": {},
   "outputs": [],
   "source": [
    "\n",
    "my_json = json.loads(my_text)\n",
    "\n",
    "with resources.path(\"my_data\",\"test_head.json\") as f: \n",
    "    f.write_text(json.dumps(my_json, indent=5))"
   ]
  },
  {
   "cell_type": "code",
   "execution_count": 122,
   "metadata": {},
   "outputs": [
    {
     "data": {
      "text/plain": [
       "[\"Jack Daniel's Legacy 1905 Edition Limit One\",\n",
       " \"Jack Daniel's Legacy Edition Series Second Edition\",\n",
       " \"Jack Daniel's Single Barrel Select Tennessee Whiskey\",\n",
       " \"Jack Daniel's Single Barrel Tennessee Rye Whiskey\",\n",
       " \"Jack Daniel's Tennessee Honey and Lemonade\",\n",
       " \"Jack Daniel's Tennessee Straight Rye Whiskey\",\n",
       " \"Jack Daniel's Tennessee Whiskey\",\n",
       " \"Jack Daniel's Tennessee Whiskey & Cola\",\n",
       " \"Jack Daniel's Triple Mash Blended Straight Whiskey 100proof\",\n",
       " \"Jack Daniel's Whiskey & Seltzer\",\n",
       " \"Jack Daniel's Whiskey Single Barrel Select Proof Rye\",\n",
       " 'Jack Dan Master Distiller',\n",
       " 'Jack Dan Sgl Brl Craft Rye',\n",
       " \"Jack Daniel's Distillery Series Selection High Toast Maple Barrel\",\n",
       " \"Jack Daniel's Master Dist 1 6\",\n",
       " \"Jack Daniel's Sgl Brl\",\n",
       " \"Jack Daniel's Single Barrel\",\n",
       " \"Jack Daniel's Single Barrel Rye Bbn Hounds\"]"
      ]
     },
     "execution_count": 122,
     "metadata": {},
     "output_type": "execute_result"
    }
   ],
   "source": [
    "product_names = [product.get(\"name\") for product in my_json.get(\"products\")]\n",
    "product_names"
   ]
  }
 ],
 "metadata": {
  "kernelspec": {
   "display_name": "Python 3.10.0 ('.venv': poetry)",
   "language": "python",
   "name": "python3"
  },
  "language_info": {
   "codemirror_mode": {
    "name": "ipython",
    "version": 3
   },
   "file_extension": ".py",
   "mimetype": "text/x-python",
   "name": "python",
   "nbconvert_exporter": "python",
   "pygments_lexer": "ipython3",
   "version": "3.10.0"
  },
  "orig_nbformat": 4,
  "vscode": {
   "interpreter": {
    "hash": "6aace7b8939080be9b8167c7291b2a7526347ab26036f6f4c0f4631a9c51d189"
   }
  }
 },
 "nbformat": 4,
 "nbformat_minor": 2
}
