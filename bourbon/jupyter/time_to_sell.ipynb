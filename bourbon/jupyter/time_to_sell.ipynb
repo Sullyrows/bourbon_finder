{
 "cells": [
  {
   "cell_type": "code",
   "execution_count": 2,
   "metadata": {},
   "outputs": [],
   "source": [
    "import sqlalchemy \n",
    "import pandas as pd \n",
    "from importlib import resources\n",
    "import pathlib"
   ]
  },
  {
   "cell_type": "code",
   "execution_count": 4,
   "metadata": {},
   "outputs": [
    {
     "data": {
      "text/plain": [
       "True"
      ]
     },
     "execution_count": 4,
     "metadata": {},
     "output_type": "execute_result"
    }
   ],
   "source": [
    "#connect \n",
    "db_path=pathlib.Path.cwd() / \"bourbon/buffalo_trace.db\"\n",
    "db_path.exists()"
   ]
  },
  {
   "cell_type": "code",
   "execution_count": 5,
   "metadata": {},
   "outputs": [
    {
     "name": "stdout",
     "output_type": "stream",
     "text": [
      "Connected at SQLite V3.35.5\n"
     ]
    }
   ],
   "source": [
    "engine = sqlalchemy.create_engine(f\"sqlite:///{db_path.absolute()}\")\n",
    "# test connection \n",
    "with engine.connect() as conn: \n",
    "    with conn.begin(): \n",
    "        ver_no = conn.execute(sqlalchemy.text(\"SELECT SQLITE_VERSION()\" )).fetchone()[0]\n",
    "        print(f\"Connected at SQLite V{ver_no}\")"
   ]
  },
  {
   "cell_type": "code",
   "execution_count": 6,
   "metadata": {},
   "outputs": [
    {
     "data": {
      "text/plain": [
       "['buffalo_trace', 'product_avail', 'product_ext']"
      ]
     },
     "execution_count": 6,
     "metadata": {},
     "output_type": "execute_result"
    }
   ],
   "source": [
    "inspect = sqlalchemy.inspect(engine)\n",
    "inspect.get_table_names()"
   ]
  },
  {
   "cell_type": "code",
   "execution_count": 10,
   "metadata": {},
   "outputs": [
    {
     "data": {
      "text/html": [
       "<div>\n",
       "<style scoped>\n",
       "    .dataframe tbody tr th:only-of-type {\n",
       "        vertical-align: middle;\n",
       "    }\n",
       "\n",
       "    .dataframe tbody tr th {\n",
       "        vertical-align: top;\n",
       "    }\n",
       "\n",
       "    .dataframe thead th {\n",
       "        text-align: right;\n",
       "    }\n",
       "</style>\n",
       "<table border=\"1\" class=\"dataframe\">\n",
       "  <thead>\n",
       "    <tr style=\"text-align: right;\">\n",
       "      <th></th>\n",
       "      <th>product_title</th>\n",
       "      <th>product_avail</th>\n",
       "      <th>product_update_time</th>\n",
       "    </tr>\n",
       "  </thead>\n",
       "  <tbody>\n",
       "    <tr>\n",
       "      <th>0</th>\n",
       "      <td>Buffalo Trace</td>\n",
       "      <td>1</td>\n",
       "      <td>2023-08-13 13:20:00.000000</td>\n",
       "    </tr>\n",
       "    <tr>\n",
       "      <th>1</th>\n",
       "      <td>W.L. Weller Special Reserve</td>\n",
       "      <td>0</td>\n",
       "      <td>2023-08-13 13:20:00.000000</td>\n",
       "    </tr>\n",
       "    <tr>\n",
       "      <th>2</th>\n",
       "      <td>E.H. Taylor Jr. Small Batch</td>\n",
       "      <td>0</td>\n",
       "      <td>2023-08-13 13:20:00.000000</td>\n",
       "    </tr>\n",
       "    <tr>\n",
       "      <th>3</th>\n",
       "      <td>Eagle Rare</td>\n",
       "      <td>0</td>\n",
       "      <td>2023-08-13 13:20:00.000000</td>\n",
       "    </tr>\n",
       "    <tr>\n",
       "      <th>4</th>\n",
       "      <td>Blanton’s Single Barrel</td>\n",
       "      <td>0</td>\n",
       "      <td>2023-08-13 13:20:00.000000</td>\n",
       "    </tr>\n",
       "    <tr>\n",
       "      <th>...</th>\n",
       "      <td>...</td>\n",
       "      <td>...</td>\n",
       "      <td>...</td>\n",
       "    </tr>\n",
       "    <tr>\n",
       "      <th>116</th>\n",
       "      <td>Eagle Rare</td>\n",
       "      <td>0</td>\n",
       "      <td>2023-08-22 09:00:00.000000</td>\n",
       "    </tr>\n",
       "    <tr>\n",
       "      <th>117</th>\n",
       "      <td>Blanton’s Single Barrel</td>\n",
       "      <td>0</td>\n",
       "      <td>2023-08-22 09:00:00.000000</td>\n",
       "    </tr>\n",
       "    <tr>\n",
       "      <th>118</th>\n",
       "      <td>Sazerac Rye</td>\n",
       "      <td>1</td>\n",
       "      <td>2023-08-22 09:00:00.000000</td>\n",
       "    </tr>\n",
       "    <tr>\n",
       "      <th>119</th>\n",
       "      <td>Wheatley</td>\n",
       "      <td>1</td>\n",
       "      <td>2023-08-22 09:00:00.000000</td>\n",
       "    </tr>\n",
       "    <tr>\n",
       "      <th>120</th>\n",
       "      <td>Bourbon Cream</td>\n",
       "      <td>1</td>\n",
       "      <td>2023-08-22 09:00:00.000000</td>\n",
       "    </tr>\n",
       "  </tbody>\n",
       "</table>\n",
       "<p>121 rows × 3 columns</p>\n",
       "</div>"
      ],
      "text/plain": [
       "                   product_title  product_avail         product_update_time\n",
       "0                  Buffalo Trace              1  2023-08-13 13:20:00.000000\n",
       "1    W.L. Weller Special Reserve              0  2023-08-13 13:20:00.000000\n",
       "2    E.H. Taylor Jr. Small Batch              0  2023-08-13 13:20:00.000000\n",
       "3                     Eagle Rare              0  2023-08-13 13:20:00.000000\n",
       "4        Blanton’s Single Barrel              0  2023-08-13 13:20:00.000000\n",
       "..                           ...            ...                         ...\n",
       "116                   Eagle Rare              0  2023-08-22 09:00:00.000000\n",
       "117      Blanton’s Single Barrel              0  2023-08-22 09:00:00.000000\n",
       "118                  Sazerac Rye              1  2023-08-22 09:00:00.000000\n",
       "119                     Wheatley              1  2023-08-22 09:00:00.000000\n",
       "120                Bourbon Cream              1  2023-08-22 09:00:00.000000\n",
       "\n",
       "[121 rows x 3 columns]"
      ]
     },
     "execution_count": 10,
     "metadata": {},
     "output_type": "execute_result"
    }
   ],
   "source": [
    "bourbon_data = pd.read_sql(\n",
    "    \"select product_title, product_avail, product_update_time from buffalo_trace\", \n",
    "    engine\n",
    ")\n",
    "\n",
    "bourbon_data "
   ]
  }
 ],
 "metadata": {
  "kernelspec": {
   "display_name": ".venv",
   "language": "python",
   "name": "python3"
  },
  "language_info": {
   "codemirror_mode": {
    "name": "ipython",
    "version": 3
   },
   "file_extension": ".py",
   "mimetype": "text/x-python",
   "name": "python",
   "nbconvert_exporter": "python",
   "pygments_lexer": "ipython3",
   "version": "3.10.0"
  },
  "orig_nbformat": 4
 },
 "nbformat": 4,
 "nbformat_minor": 2
}
