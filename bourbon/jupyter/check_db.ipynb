{
 "cells": [
  {
   "cell_type": "markdown",
   "metadata": {},
   "source": [
    "# :computer: Check Database"
   ]
  },
  {
   "cell_type": "code",
   "execution_count": 1,
   "metadata": {},
   "outputs": [],
   "source": [
    "import sqlalchemy \n",
    "import pandas as pd\n",
    "import pathlib\n",
    "import datetime as dt\n",
    "import matplotlib as mpl\n",
    "import matplotlib.pyplot as plt\n",
    "import numpy as np\n",
    "import plotly.express as pe"
   ]
  },
  {
   "cell_type": "code",
   "execution_count": 2,
   "metadata": {},
   "outputs": [
    {
     "data": {
      "text/plain": [
       "True"
      ]
     },
     "execution_count": 2,
     "metadata": {},
     "output_type": "execute_result"
    }
   ],
   "source": [
    "db_path=pathlib.Path.cwd() / \"bourbon/buffalo_trace.db\"\n",
    "db_path.exists()"
   ]
  },
  {
   "cell_type": "code",
   "execution_count": 3,
   "metadata": {},
   "outputs": [
    {
     "name": "stdout",
     "output_type": "stream",
     "text": [
      "Connected at SQLite V3.35.5\n"
     ]
    }
   ],
   "source": [
    "engine = sqlalchemy.create_engine(f\"sqlite:///{db_path.absolute()}\")\n",
    "# test connection \n",
    "with engine.connect() as conn: \n",
    "    with conn.begin(): \n",
    "        ver_no = conn.execute(sqlalchemy.text(\"SELECT SQLITE_VERSION()\" )).fetchone()[0]\n",
    "        print(f\"Connected at SQLite V{ver_no}\")"
   ]
  },
  {
   "cell_type": "code",
   "execution_count": 4,
   "metadata": {},
   "outputs": [
    {
     "data": {
      "text/plain": [
       "['buffalo_trace', 'product_avail', 'product_ext']"
      ]
     },
     "execution_count": 4,
     "metadata": {},
     "output_type": "execute_result"
    }
   ],
   "source": [
    "inspect = sqlalchemy.inspect(engine)\n",
    "inspect.get_table_names()"
   ]
  },
  {
   "cell_type": "code",
   "execution_count": 5,
   "metadata": {},
   "outputs": [
    {
     "name": "stdout",
     "output_type": "stream",
     "text": [
      "duplicates: 0\n"
     ]
    }
   ],
   "source": [
    "with engine.connect() as conn: \n",
    "    with conn.begin(): \n",
    "        sub_bourbon = pd.read_sql(\"select product_title, product_avail, product_update_time from buffalo_trace\", engine)\n",
    " \n",
    "\n",
    "# bourbon_data[[\"product_title\",\"product_avail\"]].plot(kind='line', legend=True)\n",
    "print(f\"duplicates: {len(sub_bourbon.index) - len((sub_bourbon.drop_duplicates()).index)}\")\n",
    "my_dupes = sub_bourbon[sub_bourbon.duplicated()]"
   ]
  },
  {
   "cell_type": "code",
   "execution_count": 6,
   "metadata": {},
   "outputs": [],
   "source": [
    "de_duped = sub_bourbon.drop_duplicates()"
   ]
  },
  {
   "cell_type": "code",
   "execution_count": 10,
   "metadata": {},
   "outputs": [
    {
     "data": {
      "text/html": [
       "<div>\n",
       "<style scoped>\n",
       "    .dataframe tbody tr th:only-of-type {\n",
       "        vertical-align: middle;\n",
       "    }\n",
       "\n",
       "    .dataframe tbody tr th {\n",
       "        vertical-align: top;\n",
       "    }\n",
       "\n",
       "    .dataframe thead th {\n",
       "        text-align: right;\n",
       "    }\n",
       "</style>\n",
       "<table border=\"1\" class=\"dataframe\">\n",
       "  <thead>\n",
       "    <tr style=\"text-align: right;\">\n",
       "      <th></th>\n",
       "      <th>index</th>\n",
       "      <th>product_title</th>\n",
       "      <th>product_update_time</th>\n",
       "      <th>product_avail</th>\n",
       "      <th>data_update_time</th>\n",
       "    </tr>\n",
       "  </thead>\n",
       "  <tbody>\n",
       "    <tr>\n",
       "      <th>0</th>\n",
       "      <td>113</td>\n",
       "      <td>Buffalo Trace</td>\n",
       "      <td>2023-08-22 09:00:00.000000</td>\n",
       "      <td>1</td>\n",
       "      <td>2023-08-22 13:12:10.263485</td>\n",
       "    </tr>\n",
       "    <tr>\n",
       "      <th>1</th>\n",
       "      <td>114</td>\n",
       "      <td>W.L. Weller Special Reserve</td>\n",
       "      <td>2023-08-22 09:00:00.000000</td>\n",
       "      <td>1</td>\n",
       "      <td>2023-08-22 13:12:10.263485</td>\n",
       "    </tr>\n",
       "    <tr>\n",
       "      <th>2</th>\n",
       "      <td>115</td>\n",
       "      <td>E.H. Taylor Jr. Small Batch</td>\n",
       "      <td>2023-08-22 09:00:00.000000</td>\n",
       "      <td>0</td>\n",
       "      <td>2023-08-22 13:12:10.263485</td>\n",
       "    </tr>\n",
       "    <tr>\n",
       "      <th>3</th>\n",
       "      <td>116</td>\n",
       "      <td>Eagle Rare</td>\n",
       "      <td>2023-08-22 09:00:00.000000</td>\n",
       "      <td>0</td>\n",
       "      <td>2023-08-22 13:12:10.263485</td>\n",
       "    </tr>\n",
       "    <tr>\n",
       "      <th>4</th>\n",
       "      <td>117</td>\n",
       "      <td>Blanton’s Single Barrel</td>\n",
       "      <td>2023-08-22 09:00:00.000000</td>\n",
       "      <td>0</td>\n",
       "      <td>2023-08-22 13:12:10.263485</td>\n",
       "    </tr>\n",
       "    <tr>\n",
       "      <th>5</th>\n",
       "      <td>118</td>\n",
       "      <td>Sazerac Rye</td>\n",
       "      <td>2023-08-22 09:00:00.000000</td>\n",
       "      <td>1</td>\n",
       "      <td>2023-08-22 13:12:10.263485</td>\n",
       "    </tr>\n",
       "    <tr>\n",
       "      <th>6</th>\n",
       "      <td>119</td>\n",
       "      <td>Wheatley</td>\n",
       "      <td>2023-08-22 09:00:00.000000</td>\n",
       "      <td>1</td>\n",
       "      <td>2023-08-22 13:12:10.263485</td>\n",
       "    </tr>\n",
       "    <tr>\n",
       "      <th>7</th>\n",
       "      <td>120</td>\n",
       "      <td>Bourbon Cream</td>\n",
       "      <td>2023-08-22 09:00:00.000000</td>\n",
       "      <td>1</td>\n",
       "      <td>2023-08-22 13:12:10.263485</td>\n",
       "    </tr>\n",
       "  </tbody>\n",
       "</table>\n",
       "</div>"
      ],
      "text/plain": [
       "   index                product_title         product_update_time  \\\n",
       "0    113                Buffalo Trace  2023-08-22 09:00:00.000000   \n",
       "1    114  W.L. Weller Special Reserve  2023-08-22 09:00:00.000000   \n",
       "2    115  E.H. Taylor Jr. Small Batch  2023-08-22 09:00:00.000000   \n",
       "3    116                   Eagle Rare  2023-08-22 09:00:00.000000   \n",
       "4    117      Blanton’s Single Barrel  2023-08-22 09:00:00.000000   \n",
       "5    118                  Sazerac Rye  2023-08-22 09:00:00.000000   \n",
       "6    119                     Wheatley  2023-08-22 09:00:00.000000   \n",
       "7    120                Bourbon Cream  2023-08-22 09:00:00.000000   \n",
       "\n",
       "   product_avail            data_update_time  \n",
       "0              1  2023-08-22 13:12:10.263485  \n",
       "1              1  2023-08-22 13:12:10.263485  \n",
       "2              0  2023-08-22 13:12:10.263485  \n",
       "3              0  2023-08-22 13:12:10.263485  \n",
       "4              0  2023-08-22 13:12:10.263485  \n",
       "5              1  2023-08-22 13:12:10.263485  \n",
       "6              1  2023-08-22 13:12:10.263485  \n",
       "7              1  2023-08-22 13:12:10.263485  "
      ]
     },
     "execution_count": 10,
     "metadata": {},
     "output_type": "execute_result"
    }
   ],
   "source": [
    "bourbon_data = pd.read_sql(\"select * FROM buffalo_trace\", engine)\n",
    "today_bourbon = bourbon_data\\\n",
    "    .loc[pd.to_datetime(bourbon_data['product_update_time']).dt.date == dt.date.today() ,:]\\\n",
    "        .reset_index(drop=True)\n",
    "\n",
    "\n",
    "today_bourbon.head(20)"
   ]
  },
  {
   "cell_type": "code",
   "execution_count": 15,
   "metadata": {},
   "outputs": [
    {
     "data": {
      "application/vnd.plotly.v1+json": {
       "config": {
        "plotlyServerURL": "https://plot.ly"
       },
       "data": [
        {
         "alignmentgroup": "True",
         "bingroup": "x",
         "histfunc": "sum",
         "hovertemplate": "product_title=Buffalo Trace<br>product_update_time=%{x}<br>sum of product_avail=%{y}<extra></extra>",
         "legendgroup": "Buffalo Trace",
         "marker": {
          "color": "#636efa",
          "pattern": {
           "shape": ""
          }
         },
         "name": "Buffalo Trace",
         "offsetgroup": "Buffalo Trace",
         "orientation": "v",
         "showlegend": true,
         "type": "histogram",
         "x": [
          "2023-08-13 13:20:00.000000",
          "2023-08-14 14:22:00.000000",
          "2023-08-15 08:13:00.000000",
          "2023-08-15 11:40:00.000000",
          "2023-08-16 08:09:00.000000",
          "2023-08-16 11:17:00.000000",
          "2023-08-17 08:30:00.000000",
          "2023-08-17 12:25:00.000000",
          "2023-08-18 08:10:00.000000",
          "2023-08-19 08:20:00.000000",
          "2023-08-19 12:33:00.000000",
          "2023-08-20 10:32:00.000000",
          "2023-08-21 08:22:00.000000",
          "2023-08-21 12:56:00.000000",
          "2023-08-22 09:00:00.000000"
         ],
         "xaxis": "x",
         "y": [
          1,
          1,
          1,
          1,
          1,
          1,
          1,
          1,
          1,
          1,
          1,
          1,
          1,
          1,
          1
         ],
         "yaxis": "y"
        },
        {
         "alignmentgroup": "True",
         "bingroup": "x",
         "histfunc": "sum",
         "hovertemplate": "product_title=W.L. Weller Special Reserve<br>product_update_time=%{x}<br>sum of product_avail=%{y}<extra></extra>",
         "legendgroup": "W.L. Weller Special Reserve",
         "marker": {
          "color": "#EF553B",
          "pattern": {
           "shape": ""
          }
         },
         "name": "W.L. Weller Special Reserve",
         "offsetgroup": "W.L. Weller Special Reserve",
         "orientation": "v",
         "showlegend": true,
         "type": "histogram",
         "x": [
          "2023-08-13 13:20:00.000000",
          "2023-08-14 14:22:00.000000",
          "2023-08-15 08:13:00.000000",
          "2023-08-15 11:40:00.000000",
          "2023-08-16 08:09:00.000000",
          "2023-08-16 11:17:00.000000",
          "2023-08-17 08:30:00.000000",
          "2023-08-17 12:25:00.000000",
          "2023-08-18 08:10:00.000000",
          "2023-08-19 08:20:00.000000",
          "2023-08-19 12:33:00.000000",
          "2023-08-20 10:32:00.000000",
          "2023-08-21 08:22:00.000000",
          "2023-08-21 12:56:00.000000",
          "2023-08-22 09:00:00.000000"
         ],
         "xaxis": "x",
         "y": [
          0,
          0,
          0,
          0,
          0,
          0,
          0,
          0,
          1,
          0,
          0,
          0,
          0,
          0,
          1
         ],
         "yaxis": "y"
        },
        {
         "alignmentgroup": "True",
         "bingroup": "x",
         "histfunc": "sum",
         "hovertemplate": "product_title=E.H. Taylor Jr. Small Batch<br>product_update_time=%{x}<br>sum of product_avail=%{y}<extra></extra>",
         "legendgroup": "E.H. Taylor Jr. Small Batch",
         "marker": {
          "color": "#00cc96",
          "pattern": {
           "shape": ""
          }
         },
         "name": "E.H. Taylor Jr. Small Batch",
         "offsetgroup": "E.H. Taylor Jr. Small Batch",
         "orientation": "v",
         "showlegend": true,
         "type": "histogram",
         "x": [
          "2023-08-13 13:20:00.000000",
          "2023-08-14 14:22:00.000000",
          "2023-08-15 08:13:00.000000",
          "2023-08-15 11:40:00.000000",
          "2023-08-16 08:09:00.000000",
          "2023-08-16 11:17:00.000000",
          "2023-08-17 08:30:00.000000",
          "2023-08-17 12:25:00.000000",
          "2023-08-18 08:10:00.000000",
          "2023-08-19 08:20:00.000000",
          "2023-08-19 12:33:00.000000",
          "2023-08-20 10:32:00.000000",
          "2023-08-20 10:32:00.000000",
          "2023-08-21 08:22:00.000000",
          "2023-08-21 12:56:00.000000",
          "2023-08-22 09:00:00.000000"
         ],
         "xaxis": "x",
         "y": [
          0,
          0,
          1,
          0,
          0,
          0,
          0,
          0,
          0,
          0,
          0,
          1,
          0,
          0,
          0,
          0
         ],
         "yaxis": "y"
        },
        {
         "alignmentgroup": "True",
         "bingroup": "x",
         "histfunc": "sum",
         "hovertemplate": "product_title=Eagle Rare<br>product_update_time=%{x}<br>sum of product_avail=%{y}<extra></extra>",
         "legendgroup": "Eagle Rare",
         "marker": {
          "color": "#ab63fa",
          "pattern": {
           "shape": ""
          }
         },
         "name": "Eagle Rare",
         "offsetgroup": "Eagle Rare",
         "orientation": "v",
         "showlegend": true,
         "type": "histogram",
         "x": [
          "2023-08-13 13:20:00.000000",
          "2023-08-14 14:22:00.000000",
          "2023-08-15 08:13:00.000000",
          "2023-08-15 11:40:00.000000",
          "2023-08-16 08:09:00.000000",
          "2023-08-16 11:17:00.000000",
          "2023-08-17 08:30:00.000000",
          "2023-08-17 12:25:00.000000",
          "2023-08-18 08:10:00.000000",
          "2023-08-19 08:20:00.000000",
          "2023-08-19 12:33:00.000000",
          "2023-08-20 10:32:00.000000",
          "2023-08-21 08:22:00.000000",
          "2023-08-21 12:56:00.000000",
          "2023-08-22 09:00:00.000000"
         ],
         "xaxis": "x",
         "y": [
          0,
          0,
          0,
          0,
          0,
          0,
          1,
          0,
          0,
          0,
          0,
          0,
          1,
          0,
          0
         ],
         "yaxis": "y"
        },
        {
         "alignmentgroup": "True",
         "bingroup": "x",
         "histfunc": "sum",
         "hovertemplate": "product_title=Blanton’s Single Barrel<br>product_update_time=%{x}<br>sum of product_avail=%{y}<extra></extra>",
         "legendgroup": "Blanton’s Single Barrel",
         "marker": {
          "color": "#FFA15A",
          "pattern": {
           "shape": ""
          }
         },
         "name": "Blanton’s Single Barrel",
         "offsetgroup": "Blanton’s Single Barrel",
         "orientation": "v",
         "showlegend": true,
         "type": "histogram",
         "x": [
          "2023-08-13 13:20:00.000000",
          "2023-08-14 14:22:00.000000",
          "2023-08-15 08:13:00.000000",
          "2023-08-15 11:40:00.000000",
          "2023-08-16 08:09:00.000000",
          "2023-08-16 11:17:00.000000",
          "2023-08-17 08:30:00.000000",
          "2023-08-17 12:25:00.000000",
          "2023-08-18 08:10:00.000000",
          "2023-08-19 08:20:00.000000",
          "2023-08-19 12:33:00.000000",
          "2023-08-20 10:32:00.000000",
          "2023-08-21 08:22:00.000000",
          "2023-08-21 12:56:00.000000",
          "2023-08-22 09:00:00.000000"
         ],
         "xaxis": "x",
         "y": [
          0,
          0,
          0,
          0,
          1,
          0,
          0,
          0,
          0,
          1,
          0,
          0,
          0,
          0,
          0
         ],
         "yaxis": "y"
        },
        {
         "alignmentgroup": "True",
         "bingroup": "x",
         "histfunc": "sum",
         "hovertemplate": "product_title=Sazerac Rye<br>product_update_time=%{x}<br>sum of product_avail=%{y}<extra></extra>",
         "legendgroup": "Sazerac Rye",
         "marker": {
          "color": "#19d3f3",
          "pattern": {
           "shape": ""
          }
         },
         "name": "Sazerac Rye",
         "offsetgroup": "Sazerac Rye",
         "orientation": "v",
         "showlegend": true,
         "type": "histogram",
         "x": [
          "2023-08-13 13:20:00.000000",
          "2023-08-14 14:22:00.000000",
          "2023-08-15 08:13:00.000000",
          "2023-08-15 11:40:00.000000",
          "2023-08-16 08:09:00.000000",
          "2023-08-16 11:17:00.000000",
          "2023-08-17 08:30:00.000000",
          "2023-08-17 12:25:00.000000",
          "2023-08-18 08:10:00.000000",
          "2023-08-19 08:20:00.000000",
          "2023-08-19 12:33:00.000000",
          "2023-08-20 10:32:00.000000",
          "2023-08-21 08:22:00.000000",
          "2023-08-21 12:56:00.000000",
          "2023-08-22 09:00:00.000000"
         ],
         "xaxis": "x",
         "y": [
          1,
          1,
          1,
          1,
          1,
          1,
          1,
          1,
          1,
          1,
          1,
          1,
          1,
          1,
          1
         ],
         "yaxis": "y"
        },
        {
         "alignmentgroup": "True",
         "bingroup": "x",
         "histfunc": "sum",
         "hovertemplate": "product_title=Wheatley<br>product_update_time=%{x}<br>sum of product_avail=%{y}<extra></extra>",
         "legendgroup": "Wheatley",
         "marker": {
          "color": "#FF6692",
          "pattern": {
           "shape": ""
          }
         },
         "name": "Wheatley",
         "offsetgroup": "Wheatley",
         "orientation": "v",
         "showlegend": true,
         "type": "histogram",
         "x": [
          "2023-08-13 13:20:00.000000",
          "2023-08-14 14:22:00.000000",
          "2023-08-15 08:13:00.000000",
          "2023-08-15 11:40:00.000000",
          "2023-08-16 08:09:00.000000",
          "2023-08-16 11:17:00.000000",
          "2023-08-17 08:30:00.000000",
          "2023-08-17 12:25:00.000000",
          "2023-08-18 08:10:00.000000",
          "2023-08-19 08:20:00.000000",
          "2023-08-19 12:33:00.000000",
          "2023-08-20 10:32:00.000000",
          "2023-08-21 08:22:00.000000",
          "2023-08-21 12:56:00.000000",
          "2023-08-22 09:00:00.000000"
         ],
         "xaxis": "x",
         "y": [
          1,
          1,
          1,
          1,
          1,
          1,
          1,
          1,
          1,
          1,
          1,
          1,
          1,
          1,
          1
         ],
         "yaxis": "y"
        },
        {
         "alignmentgroup": "True",
         "bingroup": "x",
         "histfunc": "sum",
         "hovertemplate": "product_title=Bourbon Cream<br>product_update_time=%{x}<br>sum of product_avail=%{y}<extra></extra>",
         "legendgroup": "Bourbon Cream",
         "marker": {
          "color": "#B6E880",
          "pattern": {
           "shape": ""
          }
         },
         "name": "Bourbon Cream",
         "offsetgroup": "Bourbon Cream",
         "orientation": "v",
         "showlegend": true,
         "type": "histogram",
         "x": [
          "2023-08-13 13:20:00.000000",
          "2023-08-14 14:22:00.000000",
          "2023-08-15 08:13:00.000000",
          "2023-08-15 11:40:00.000000",
          "2023-08-16 08:09:00.000000",
          "2023-08-16 11:17:00.000000",
          "2023-08-17 08:30:00.000000",
          "2023-08-17 12:25:00.000000",
          "2023-08-18 08:10:00.000000",
          "2023-08-19 08:20:00.000000",
          "2023-08-19 12:33:00.000000",
          "2023-08-20 10:32:00.000000",
          "2023-08-21 08:22:00.000000",
          "2023-08-21 12:56:00.000000",
          "2023-08-22 09:00:00.000000"
         ],
         "xaxis": "x",
         "y": [
          1,
          1,
          1,
          1,
          1,
          1,
          1,
          1,
          1,
          1,
          1,
          1,
          1,
          1,
          1
         ],
         "yaxis": "y"
        }
       ],
       "layout": {
        "barmode": "relative",
        "legend": {
         "title": {
          "text": "product_title"
         },
         "tracegroupgap": 0
        },
        "margin": {
         "t": 60
        },
        "template": {
         "data": {
          "bar": [
           {
            "error_x": {
             "color": "#2a3f5f"
            },
            "error_y": {
             "color": "#2a3f5f"
            },
            "marker": {
             "line": {
              "color": "#E5ECF6",
              "width": 0.5
             },
             "pattern": {
              "fillmode": "overlay",
              "size": 10,
              "solidity": 0.2
             }
            },
            "type": "bar"
           }
          ],
          "barpolar": [
           {
            "marker": {
             "line": {
              "color": "#E5ECF6",
              "width": 0.5
             },
             "pattern": {
              "fillmode": "overlay",
              "size": 10,
              "solidity": 0.2
             }
            },
            "type": "barpolar"
           }
          ],
          "carpet": [
           {
            "aaxis": {
             "endlinecolor": "#2a3f5f",
             "gridcolor": "white",
             "linecolor": "white",
             "minorgridcolor": "white",
             "startlinecolor": "#2a3f5f"
            },
            "baxis": {
             "endlinecolor": "#2a3f5f",
             "gridcolor": "white",
             "linecolor": "white",
             "minorgridcolor": "white",
             "startlinecolor": "#2a3f5f"
            },
            "type": "carpet"
           }
          ],
          "choropleth": [
           {
            "colorbar": {
             "outlinewidth": 0,
             "ticks": ""
            },
            "type": "choropleth"
           }
          ],
          "contour": [
           {
            "colorbar": {
             "outlinewidth": 0,
             "ticks": ""
            },
            "colorscale": [
             [
              0,
              "#0d0887"
             ],
             [
              0.1111111111111111,
              "#46039f"
             ],
             [
              0.2222222222222222,
              "#7201a8"
             ],
             [
              0.3333333333333333,
              "#9c179e"
             ],
             [
              0.4444444444444444,
              "#bd3786"
             ],
             [
              0.5555555555555556,
              "#d8576b"
             ],
             [
              0.6666666666666666,
              "#ed7953"
             ],
             [
              0.7777777777777778,
              "#fb9f3a"
             ],
             [
              0.8888888888888888,
              "#fdca26"
             ],
             [
              1,
              "#f0f921"
             ]
            ],
            "type": "contour"
           }
          ],
          "contourcarpet": [
           {
            "colorbar": {
             "outlinewidth": 0,
             "ticks": ""
            },
            "type": "contourcarpet"
           }
          ],
          "heatmap": [
           {
            "colorbar": {
             "outlinewidth": 0,
             "ticks": ""
            },
            "colorscale": [
             [
              0,
              "#0d0887"
             ],
             [
              0.1111111111111111,
              "#46039f"
             ],
             [
              0.2222222222222222,
              "#7201a8"
             ],
             [
              0.3333333333333333,
              "#9c179e"
             ],
             [
              0.4444444444444444,
              "#bd3786"
             ],
             [
              0.5555555555555556,
              "#d8576b"
             ],
             [
              0.6666666666666666,
              "#ed7953"
             ],
             [
              0.7777777777777778,
              "#fb9f3a"
             ],
             [
              0.8888888888888888,
              "#fdca26"
             ],
             [
              1,
              "#f0f921"
             ]
            ],
            "type": "heatmap"
           }
          ],
          "heatmapgl": [
           {
            "colorbar": {
             "outlinewidth": 0,
             "ticks": ""
            },
            "colorscale": [
             [
              0,
              "#0d0887"
             ],
             [
              0.1111111111111111,
              "#46039f"
             ],
             [
              0.2222222222222222,
              "#7201a8"
             ],
             [
              0.3333333333333333,
              "#9c179e"
             ],
             [
              0.4444444444444444,
              "#bd3786"
             ],
             [
              0.5555555555555556,
              "#d8576b"
             ],
             [
              0.6666666666666666,
              "#ed7953"
             ],
             [
              0.7777777777777778,
              "#fb9f3a"
             ],
             [
              0.8888888888888888,
              "#fdca26"
             ],
             [
              1,
              "#f0f921"
             ]
            ],
            "type": "heatmapgl"
           }
          ],
          "histogram": [
           {
            "marker": {
             "pattern": {
              "fillmode": "overlay",
              "size": 10,
              "solidity": 0.2
             }
            },
            "type": "histogram"
           }
          ],
          "histogram2d": [
           {
            "colorbar": {
             "outlinewidth": 0,
             "ticks": ""
            },
            "colorscale": [
             [
              0,
              "#0d0887"
             ],
             [
              0.1111111111111111,
              "#46039f"
             ],
             [
              0.2222222222222222,
              "#7201a8"
             ],
             [
              0.3333333333333333,
              "#9c179e"
             ],
             [
              0.4444444444444444,
              "#bd3786"
             ],
             [
              0.5555555555555556,
              "#d8576b"
             ],
             [
              0.6666666666666666,
              "#ed7953"
             ],
             [
              0.7777777777777778,
              "#fb9f3a"
             ],
             [
              0.8888888888888888,
              "#fdca26"
             ],
             [
              1,
              "#f0f921"
             ]
            ],
            "type": "histogram2d"
           }
          ],
          "histogram2dcontour": [
           {
            "colorbar": {
             "outlinewidth": 0,
             "ticks": ""
            },
            "colorscale": [
             [
              0,
              "#0d0887"
             ],
             [
              0.1111111111111111,
              "#46039f"
             ],
             [
              0.2222222222222222,
              "#7201a8"
             ],
             [
              0.3333333333333333,
              "#9c179e"
             ],
             [
              0.4444444444444444,
              "#bd3786"
             ],
             [
              0.5555555555555556,
              "#d8576b"
             ],
             [
              0.6666666666666666,
              "#ed7953"
             ],
             [
              0.7777777777777778,
              "#fb9f3a"
             ],
             [
              0.8888888888888888,
              "#fdca26"
             ],
             [
              1,
              "#f0f921"
             ]
            ],
            "type": "histogram2dcontour"
           }
          ],
          "mesh3d": [
           {
            "colorbar": {
             "outlinewidth": 0,
             "ticks": ""
            },
            "type": "mesh3d"
           }
          ],
          "parcoords": [
           {
            "line": {
             "colorbar": {
              "outlinewidth": 0,
              "ticks": ""
             }
            },
            "type": "parcoords"
           }
          ],
          "pie": [
           {
            "automargin": true,
            "type": "pie"
           }
          ],
          "scatter": [
           {
            "fillpattern": {
             "fillmode": "overlay",
             "size": 10,
             "solidity": 0.2
            },
            "type": "scatter"
           }
          ],
          "scatter3d": [
           {
            "line": {
             "colorbar": {
              "outlinewidth": 0,
              "ticks": ""
             }
            },
            "marker": {
             "colorbar": {
              "outlinewidth": 0,
              "ticks": ""
             }
            },
            "type": "scatter3d"
           }
          ],
          "scattercarpet": [
           {
            "marker": {
             "colorbar": {
              "outlinewidth": 0,
              "ticks": ""
             }
            },
            "type": "scattercarpet"
           }
          ],
          "scattergeo": [
           {
            "marker": {
             "colorbar": {
              "outlinewidth": 0,
              "ticks": ""
             }
            },
            "type": "scattergeo"
           }
          ],
          "scattergl": [
           {
            "marker": {
             "colorbar": {
              "outlinewidth": 0,
              "ticks": ""
             }
            },
            "type": "scattergl"
           }
          ],
          "scattermapbox": [
           {
            "marker": {
             "colorbar": {
              "outlinewidth": 0,
              "ticks": ""
             }
            },
            "type": "scattermapbox"
           }
          ],
          "scatterpolar": [
           {
            "marker": {
             "colorbar": {
              "outlinewidth": 0,
              "ticks": ""
             }
            },
            "type": "scatterpolar"
           }
          ],
          "scatterpolargl": [
           {
            "marker": {
             "colorbar": {
              "outlinewidth": 0,
              "ticks": ""
             }
            },
            "type": "scatterpolargl"
           }
          ],
          "scatterternary": [
           {
            "marker": {
             "colorbar": {
              "outlinewidth": 0,
              "ticks": ""
             }
            },
            "type": "scatterternary"
           }
          ],
          "surface": [
           {
            "colorbar": {
             "outlinewidth": 0,
             "ticks": ""
            },
            "colorscale": [
             [
              0,
              "#0d0887"
             ],
             [
              0.1111111111111111,
              "#46039f"
             ],
             [
              0.2222222222222222,
              "#7201a8"
             ],
             [
              0.3333333333333333,
              "#9c179e"
             ],
             [
              0.4444444444444444,
              "#bd3786"
             ],
             [
              0.5555555555555556,
              "#d8576b"
             ],
             [
              0.6666666666666666,
              "#ed7953"
             ],
             [
              0.7777777777777778,
              "#fb9f3a"
             ],
             [
              0.8888888888888888,
              "#fdca26"
             ],
             [
              1,
              "#f0f921"
             ]
            ],
            "type": "surface"
           }
          ],
          "table": [
           {
            "cells": {
             "fill": {
              "color": "#EBF0F8"
             },
             "line": {
              "color": "white"
             }
            },
            "header": {
             "fill": {
              "color": "#C8D4E3"
             },
             "line": {
              "color": "white"
             }
            },
            "type": "table"
           }
          ]
         },
         "layout": {
          "annotationdefaults": {
           "arrowcolor": "#2a3f5f",
           "arrowhead": 0,
           "arrowwidth": 1
          },
          "autotypenumbers": "strict",
          "coloraxis": {
           "colorbar": {
            "outlinewidth": 0,
            "ticks": ""
           }
          },
          "colorscale": {
           "diverging": [
            [
             0,
             "#8e0152"
            ],
            [
             0.1,
             "#c51b7d"
            ],
            [
             0.2,
             "#de77ae"
            ],
            [
             0.3,
             "#f1b6da"
            ],
            [
             0.4,
             "#fde0ef"
            ],
            [
             0.5,
             "#f7f7f7"
            ],
            [
             0.6,
             "#e6f5d0"
            ],
            [
             0.7,
             "#b8e186"
            ],
            [
             0.8,
             "#7fbc41"
            ],
            [
             0.9,
             "#4d9221"
            ],
            [
             1,
             "#276419"
            ]
           ],
           "sequential": [
            [
             0,
             "#0d0887"
            ],
            [
             0.1111111111111111,
             "#46039f"
            ],
            [
             0.2222222222222222,
             "#7201a8"
            ],
            [
             0.3333333333333333,
             "#9c179e"
            ],
            [
             0.4444444444444444,
             "#bd3786"
            ],
            [
             0.5555555555555556,
             "#d8576b"
            ],
            [
             0.6666666666666666,
             "#ed7953"
            ],
            [
             0.7777777777777778,
             "#fb9f3a"
            ],
            [
             0.8888888888888888,
             "#fdca26"
            ],
            [
             1,
             "#f0f921"
            ]
           ],
           "sequentialminus": [
            [
             0,
             "#0d0887"
            ],
            [
             0.1111111111111111,
             "#46039f"
            ],
            [
             0.2222222222222222,
             "#7201a8"
            ],
            [
             0.3333333333333333,
             "#9c179e"
            ],
            [
             0.4444444444444444,
             "#bd3786"
            ],
            [
             0.5555555555555556,
             "#d8576b"
            ],
            [
             0.6666666666666666,
             "#ed7953"
            ],
            [
             0.7777777777777778,
             "#fb9f3a"
            ],
            [
             0.8888888888888888,
             "#fdca26"
            ],
            [
             1,
             "#f0f921"
            ]
           ]
          },
          "colorway": [
           "#636efa",
           "#EF553B",
           "#00cc96",
           "#ab63fa",
           "#FFA15A",
           "#19d3f3",
           "#FF6692",
           "#B6E880",
           "#FF97FF",
           "#FECB52"
          ],
          "font": {
           "color": "#2a3f5f"
          },
          "geo": {
           "bgcolor": "white",
           "lakecolor": "white",
           "landcolor": "#E5ECF6",
           "showlakes": true,
           "showland": true,
           "subunitcolor": "white"
          },
          "hoverlabel": {
           "align": "left"
          },
          "hovermode": "closest",
          "mapbox": {
           "style": "light"
          },
          "paper_bgcolor": "white",
          "plot_bgcolor": "#E5ECF6",
          "polar": {
           "angularaxis": {
            "gridcolor": "white",
            "linecolor": "white",
            "ticks": ""
           },
           "bgcolor": "#E5ECF6",
           "radialaxis": {
            "gridcolor": "white",
            "linecolor": "white",
            "ticks": ""
           }
          },
          "scene": {
           "xaxis": {
            "backgroundcolor": "#E5ECF6",
            "gridcolor": "white",
            "gridwidth": 2,
            "linecolor": "white",
            "showbackground": true,
            "ticks": "",
            "zerolinecolor": "white"
           },
           "yaxis": {
            "backgroundcolor": "#E5ECF6",
            "gridcolor": "white",
            "gridwidth": 2,
            "linecolor": "white",
            "showbackground": true,
            "ticks": "",
            "zerolinecolor": "white"
           },
           "zaxis": {
            "backgroundcolor": "#E5ECF6",
            "gridcolor": "white",
            "gridwidth": 2,
            "linecolor": "white",
            "showbackground": true,
            "ticks": "",
            "zerolinecolor": "white"
           }
          },
          "shapedefaults": {
           "line": {
            "color": "#2a3f5f"
           }
          },
          "ternary": {
           "aaxis": {
            "gridcolor": "white",
            "linecolor": "white",
            "ticks": ""
           },
           "baxis": {
            "gridcolor": "white",
            "linecolor": "white",
            "ticks": ""
           },
           "bgcolor": "#E5ECF6",
           "caxis": {
            "gridcolor": "white",
            "linecolor": "white",
            "ticks": ""
           }
          },
          "title": {
           "x": 0.05
          },
          "xaxis": {
           "automargin": true,
           "gridcolor": "white",
           "linecolor": "white",
           "ticks": "",
           "title": {
            "standoff": 15
           },
           "zerolinecolor": "white",
           "zerolinewidth": 2
          },
          "yaxis": {
           "automargin": true,
           "gridcolor": "white",
           "linecolor": "white",
           "ticks": "",
           "title": {
            "standoff": 15
           },
           "zerolinecolor": "white",
           "zerolinewidth": 2
          }
         }
        },
        "xaxis": {
         "anchor": "y",
         "domain": [
          0,
          1
         ],
         "title": {
          "text": "product_update_time"
         }
        },
        "yaxis": {
         "anchor": "x",
         "domain": [
          0,
          1
         ],
         "title": {
          "text": "sum of product_avail"
         }
        }
       }
      }
     },
     "metadata": {},
     "output_type": "display_data"
    }
   ],
   "source": [
    "pe.histogram(data_frame=bourbon_data, x=\"product_update_time\",y=\"product_avail\",color='product_title')"
   ]
  },
  {
   "cell_type": "code",
   "execution_count": null,
   "metadata": {},
   "outputs": [],
   "source": [
    "# Note that even in the OO-style, we use `.pyplot.figure` to create the Figure.\n",
    "fig, ax = plt.subplots(figsize=(5, 2.7), layout='constrained')\n",
    "ax.plot(x, x, label='linear')  # Plot some data on the axes.\n",
    "ax.plot(x, x**2, label='quadratic')  # Plot more data on the axes...\n",
    "ax.plot(x, x**3, label='cubic')  # ... and some more.\n",
    "ax.set_xlabel('x label')  # Add an x-label to the axes.\n",
    "ax.set_ylabel('y label')  # Add a y-label to the axes.\n",
    "ax.set_title(\"Simple Plot\")  # Add a title to the axes.\n",
    "ax.legend()  # Add a legend."
   ]
  },
  {
   "cell_type": "markdown",
   "metadata": {},
   "source": [
    "## Clean Duplicates"
   ]
  },
  {
   "cell_type": "code",
   "execution_count": 13,
   "metadata": {},
   "outputs": [
    {
     "name": "stdout",
     "output_type": "stream",
     "text": [
      "deduped : 1855\n",
      "deduped : 105\n",
      "normal : 1855\n"
     ]
    }
   ],
   "source": [
    "# clean dupes\n",
    "print(f\"deduped : {len(bourbon_data.drop_duplicates().index)}\")\n",
    "print(f\"deduped : {len(bourbon_data.drop_duplicates(subset=['product_title','product_avail','product_update_time']).index)}\")\n",
    "print(f\"normal : {len(bourbon_data.index)}\")"
   ]
  },
  {
   "cell_type": "code",
   "execution_count": 50,
   "metadata": {},
   "outputs": [
    {
     "data": {
      "text/html": [
       "<div>\n",
       "<style scoped>\n",
       "    .dataframe tbody tr th:only-of-type {\n",
       "        vertical-align: middle;\n",
       "    }\n",
       "\n",
       "    .dataframe tbody tr th {\n",
       "        vertical-align: top;\n",
       "    }\n",
       "\n",
       "    .dataframe thead th {\n",
       "        text-align: right;\n",
       "    }\n",
       "</style>\n",
       "<table border=\"1\" class=\"dataframe\">\n",
       "  <thead>\n",
       "    <tr style=\"text-align: right;\">\n",
       "      <th></th>\n",
       "      <th>product_title</th>\n",
       "      <th>product_update_time</th>\n",
       "      <th>product_avail</th>\n",
       "      <th>data_update_time</th>\n",
       "    </tr>\n",
       "  </thead>\n",
       "  <tbody>\n",
       "    <tr>\n",
       "      <th>0</th>\n",
       "      <td>Buffalo Trace</td>\n",
       "      <td>2023-08-13 13:20:00.000000</td>\n",
       "      <td>1</td>\n",
       "      <td>2023-08-14 00:11:04.168636</td>\n",
       "    </tr>\n",
       "    <tr>\n",
       "      <th>1</th>\n",
       "      <td>W.L. Weller Special Reserve</td>\n",
       "      <td>2023-08-13 13:20:00.000000</td>\n",
       "      <td>0</td>\n",
       "      <td>2023-08-14 00:11:04.168636</td>\n",
       "    </tr>\n",
       "    <tr>\n",
       "      <th>2</th>\n",
       "      <td>E.H. Taylor Jr. Small Batch</td>\n",
       "      <td>2023-08-13 13:20:00.000000</td>\n",
       "      <td>0</td>\n",
       "      <td>2023-08-14 00:11:04.168636</td>\n",
       "    </tr>\n",
       "    <tr>\n",
       "      <th>3</th>\n",
       "      <td>Eagle Rare</td>\n",
       "      <td>2023-08-13 13:20:00.000000</td>\n",
       "      <td>0</td>\n",
       "      <td>2023-08-14 00:11:04.168636</td>\n",
       "    </tr>\n",
       "    <tr>\n",
       "      <th>4</th>\n",
       "      <td>Blanton’s Single Barrel</td>\n",
       "      <td>2023-08-13 13:20:00.000000</td>\n",
       "      <td>0</td>\n",
       "      <td>2023-08-14 00:11:04.168636</td>\n",
       "    </tr>\n",
       "    <tr>\n",
       "      <th>...</th>\n",
       "      <td>...</td>\n",
       "      <td>...</td>\n",
       "      <td>...</td>\n",
       "      <td>...</td>\n",
       "    </tr>\n",
       "    <tr>\n",
       "      <th>116</th>\n",
       "      <td>Eagle Rare</td>\n",
       "      <td>2023-08-22 09:00:00.000000</td>\n",
       "      <td>0</td>\n",
       "      <td>2023-08-22 13:12:10.263485</td>\n",
       "    </tr>\n",
       "    <tr>\n",
       "      <th>117</th>\n",
       "      <td>Blanton’s Single Barrel</td>\n",
       "      <td>2023-08-22 09:00:00.000000</td>\n",
       "      <td>0</td>\n",
       "      <td>2023-08-22 13:12:10.263485</td>\n",
       "    </tr>\n",
       "    <tr>\n",
       "      <th>118</th>\n",
       "      <td>Sazerac Rye</td>\n",
       "      <td>2023-08-22 09:00:00.000000</td>\n",
       "      <td>1</td>\n",
       "      <td>2023-08-22 13:12:10.263485</td>\n",
       "    </tr>\n",
       "    <tr>\n",
       "      <th>119</th>\n",
       "      <td>Wheatley</td>\n",
       "      <td>2023-08-22 09:00:00.000000</td>\n",
       "      <td>1</td>\n",
       "      <td>2023-08-22 13:12:10.263485</td>\n",
       "    </tr>\n",
       "    <tr>\n",
       "      <th>120</th>\n",
       "      <td>Bourbon Cream</td>\n",
       "      <td>2023-08-22 09:00:00.000000</td>\n",
       "      <td>1</td>\n",
       "      <td>2023-08-22 13:12:10.263485</td>\n",
       "    </tr>\n",
       "  </tbody>\n",
       "</table>\n",
       "<p>121 rows × 4 columns</p>\n",
       "</div>"
      ],
      "text/plain": [
       "                   product_title         product_update_time  product_avail  \\\n",
       "0                  Buffalo Trace  2023-08-13 13:20:00.000000              1   \n",
       "1    W.L. Weller Special Reserve  2023-08-13 13:20:00.000000              0   \n",
       "2    E.H. Taylor Jr. Small Batch  2023-08-13 13:20:00.000000              0   \n",
       "3                     Eagle Rare  2023-08-13 13:20:00.000000              0   \n",
       "4        Blanton’s Single Barrel  2023-08-13 13:20:00.000000              0   \n",
       "..                           ...                         ...            ...   \n",
       "116                   Eagle Rare  2023-08-22 09:00:00.000000              0   \n",
       "117      Blanton’s Single Barrel  2023-08-22 09:00:00.000000              0   \n",
       "118                  Sazerac Rye  2023-08-22 09:00:00.000000              1   \n",
       "119                     Wheatley  2023-08-22 09:00:00.000000              1   \n",
       "120                Bourbon Cream  2023-08-22 09:00:00.000000              1   \n",
       "\n",
       "               data_update_time  \n",
       "0    2023-08-14 00:11:04.168636  \n",
       "1    2023-08-14 00:11:04.168636  \n",
       "2    2023-08-14 00:11:04.168636  \n",
       "3    2023-08-14 00:11:04.168636  \n",
       "4    2023-08-14 00:11:04.168636  \n",
       "..                          ...  \n",
       "116  2023-08-22 13:12:10.263485  \n",
       "117  2023-08-22 13:12:10.263485  \n",
       "118  2023-08-22 13:12:10.263485  \n",
       "119  2023-08-22 13:12:10.263485  \n",
       "120  2023-08-22 13:12:10.263485  \n",
       "\n",
       "[121 rows x 4 columns]"
      ]
     },
     "execution_count": 50,
     "metadata": {},
     "output_type": "execute_result"
    }
   ],
   "source": [
    "de_duped = bourbon_data\\\n",
    "    .drop_duplicates(subset=[\n",
    "        'product_title',\n",
    "        'product_avail',\n",
    "        'product_update_time'\n",
    "    ]).reset_index(drop=True)\n",
    "\n",
    "de_duped.drop(['level_0','index'], axis='columns',inplace=True)\n",
    "de_duped"
   ]
  },
  {
   "cell_type": "code",
   "execution_count": 51,
   "metadata": {},
   "outputs": [],
   "source": [
    "write_sql = True\n",
    "if write_sql: \n",
    "    de_duped.to_sql(name='buffalo_trace', con=engine, if_exists='replace')"
   ]
  }
 ],
 "metadata": {
  "kernelspec": {
   "display_name": ".venv",
   "language": "python",
   "name": "python3"
  },
  "language_info": {
   "codemirror_mode": {
    "name": "ipython",
    "version": 3
   },
   "file_extension": ".py",
   "mimetype": "text/x-python",
   "name": "python",
   "nbconvert_exporter": "python",
   "pygments_lexer": "ipython3",
   "version": "3.10.0"
  },
  "orig_nbformat": 4
 },
 "nbformat": 4,
 "nbformat_minor": 2
}
