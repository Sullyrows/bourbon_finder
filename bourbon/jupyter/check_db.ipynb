{
 "cells": [
  {
   "cell_type": "markdown",
   "metadata": {},
   "source": [
    "# :computer: Check Database"
   ]
  },
  {
   "cell_type": "code",
   "execution_count": 3,
   "metadata": {},
   "outputs": [],
   "source": [
    "import sqlalchemy \n",
    "import pandas as pd\n",
    "import pathlib\n",
    "import datetime as dt\n",
    "import matplotlib as mpl\n",
    "import matplotlib.pyplot as plt\n",
    "import numpy as np"
   ]
  },
  {
   "cell_type": "code",
   "execution_count": 30,
   "metadata": {},
   "outputs": [
    {
     "data": {
      "text/plain": [
       "True"
      ]
     },
     "execution_count": 30,
     "metadata": {},
     "output_type": "execute_result"
    }
   ],
   "source": [
    "db_path=pathlib.Path.cwd() / \"bourbon/buffalo_trace.db\"\n",
    "db_path.exists()"
   ]
  },
  {
   "cell_type": "code",
   "execution_count": 33,
   "metadata": {},
   "outputs": [
    {
     "name": "stdout",
     "output_type": "stream",
     "text": [
      "Connected at SQLite V3.35.5\n"
     ]
    }
   ],
   "source": [
    "engine = sqlalchemy.create_engine(f\"sqlite:///{db_path.absolute()}\")\n",
    "# test connection \n",
    "with engine.connect() as conn: \n",
    "    with conn.begin(): \n",
    "        ver_no = conn.execute(sqlalchemy.text(\"SELECT SQLITE_VERSION()\" )).fetchone()[0]\n",
    "        print(f\"Connected at SQLite V{ver_no}\")"
   ]
  },
  {
   "cell_type": "code",
   "execution_count": 12,
   "metadata": {},
   "outputs": [
    {
     "data": {
      "text/plain": [
       "['buffalo_trace', 'product_avail', 'product_ext']"
      ]
     },
     "execution_count": 12,
     "metadata": {},
     "output_type": "execute_result"
    }
   ],
   "source": [
    "inspect = sqlalchemy.inspect(engine)\n",
    "inspect.get_table_names()"
   ]
  },
  {
   "cell_type": "code",
   "execution_count": 39,
   "metadata": {},
   "outputs": [
    {
     "name": "stdout",
     "output_type": "stream",
     "text": [
      "duplicates: 735\n"
     ]
    },
    {
     "data": {
      "text/html": [
       "<div>\n",
       "<style scoped>\n",
       "    .dataframe tbody tr th:only-of-type {\n",
       "        vertical-align: middle;\n",
       "    }\n",
       "\n",
       "    .dataframe tbody tr th {\n",
       "        vertical-align: top;\n",
       "    }\n",
       "\n",
       "    .dataframe thead th {\n",
       "        text-align: right;\n",
       "    }\n",
       "</style>\n",
       "<table border=\"1\" class=\"dataframe\">\n",
       "  <thead>\n",
       "    <tr style=\"text-align: right;\">\n",
       "      <th></th>\n",
       "      <th>product_title</th>\n",
       "      <th>product_avail</th>\n",
       "      <th>product_update_time</th>\n",
       "    </tr>\n",
       "  </thead>\n",
       "  <tbody>\n",
       "    <tr>\n",
       "      <th>16</th>\n",
       "      <td>Buffalo Trace</td>\n",
       "      <td>1</td>\n",
       "      <td>2023-08-14 14:22:00.000000</td>\n",
       "    </tr>\n",
       "    <tr>\n",
       "      <th>17</th>\n",
       "      <td>W.L. Weller Special Reserve</td>\n",
       "      <td>0</td>\n",
       "      <td>2023-08-14 14:22:00.000000</td>\n",
       "    </tr>\n",
       "    <tr>\n",
       "      <th>18</th>\n",
       "      <td>E.H. Taylor Jr. Small Batch</td>\n",
       "      <td>0</td>\n",
       "      <td>2023-08-14 14:22:00.000000</td>\n",
       "    </tr>\n",
       "    <tr>\n",
       "      <th>19</th>\n",
       "      <td>Eagle Rare</td>\n",
       "      <td>0</td>\n",
       "      <td>2023-08-14 14:22:00.000000</td>\n",
       "    </tr>\n",
       "    <tr>\n",
       "      <th>20</th>\n",
       "      <td>Blanton’s Single Barrel</td>\n",
       "      <td>0</td>\n",
       "      <td>2023-08-14 14:22:00.000000</td>\n",
       "    </tr>\n",
       "    <tr>\n",
       "      <th>...</th>\n",
       "      <td>...</td>\n",
       "      <td>...</td>\n",
       "      <td>...</td>\n",
       "    </tr>\n",
       "    <tr>\n",
       "      <th>794</th>\n",
       "      <td>Eagle Rare</td>\n",
       "      <td>0</td>\n",
       "      <td>2023-08-17 12:25:00.000000</td>\n",
       "    </tr>\n",
       "    <tr>\n",
       "      <th>795</th>\n",
       "      <td>Blanton’s Single Barrel</td>\n",
       "      <td>0</td>\n",
       "      <td>2023-08-17 12:25:00.000000</td>\n",
       "    </tr>\n",
       "    <tr>\n",
       "      <th>796</th>\n",
       "      <td>Sazerac Rye</td>\n",
       "      <td>1</td>\n",
       "      <td>2023-08-17 12:25:00.000000</td>\n",
       "    </tr>\n",
       "    <tr>\n",
       "      <th>797</th>\n",
       "      <td>Wheatley</td>\n",
       "      <td>1</td>\n",
       "      <td>2023-08-17 12:25:00.000000</td>\n",
       "    </tr>\n",
       "    <tr>\n",
       "      <th>798</th>\n",
       "      <td>Bourbon Cream</td>\n",
       "      <td>1</td>\n",
       "      <td>2023-08-17 12:25:00.000000</td>\n",
       "    </tr>\n",
       "  </tbody>\n",
       "</table>\n",
       "<p>735 rows × 3 columns</p>\n",
       "</div>"
      ],
      "text/plain": [
       "                   product_title  product_avail         product_update_time\n",
       "16                 Buffalo Trace              1  2023-08-14 14:22:00.000000\n",
       "17   W.L. Weller Special Reserve              0  2023-08-14 14:22:00.000000\n",
       "18   E.H. Taylor Jr. Small Batch              0  2023-08-14 14:22:00.000000\n",
       "19                    Eagle Rare              0  2023-08-14 14:22:00.000000\n",
       "20       Blanton’s Single Barrel              0  2023-08-14 14:22:00.000000\n",
       "..                           ...            ...                         ...\n",
       "794                   Eagle Rare              0  2023-08-17 12:25:00.000000\n",
       "795      Blanton’s Single Barrel              0  2023-08-17 12:25:00.000000\n",
       "796                  Sazerac Rye              1  2023-08-17 12:25:00.000000\n",
       "797                     Wheatley              1  2023-08-17 12:25:00.000000\n",
       "798                Bourbon Cream              1  2023-08-17 12:25:00.000000\n",
       "\n",
       "[735 rows x 3 columns]"
      ]
     },
     "execution_count": 39,
     "metadata": {},
     "output_type": "execute_result"
    }
   ],
   "source": [
    "with engine.connect() as conn: \n",
    "    with conn.begin(): \n",
    "        sub_bourbon = pd.read_sql(\"select product_title, product_avail, product_update_time from buffalo_trace\", engine)\n",
    " \n",
    "\n",
    "# bourbon_data[[\"product_title\",\"product_avail\"]].plot(kind='line', legend=True)\n",
    "print(f\"duplicates: {len(sub_bourbon.index) - len((sub_bourbon.drop_duplicates()).index)}\")\n",
    "sub_bourbon[sub_bourbon.duplicated()]"
   ]
  },
  {
   "cell_type": "code",
   "execution_count": 37,
   "metadata": {},
   "outputs": [
    {
     "data": {
      "text/html": [
       "<div>\n",
       "<style scoped>\n",
       "    .dataframe tbody tr th:only-of-type {\n",
       "        vertical-align: middle;\n",
       "    }\n",
       "\n",
       "    .dataframe tbody tr th {\n",
       "        vertical-align: top;\n",
       "    }\n",
       "\n",
       "    .dataframe thead th {\n",
       "        text-align: right;\n",
       "    }\n",
       "</style>\n",
       "<table border=\"1\" class=\"dataframe\">\n",
       "  <thead>\n",
       "    <tr style=\"text-align: right;\">\n",
       "      <th></th>\n",
       "      <th>product_title</th>\n",
       "      <th>product_avail</th>\n",
       "      <th>product_update_time</th>\n",
       "    </tr>\n",
       "  </thead>\n",
       "  <tbody>\n",
       "    <tr>\n",
       "      <th>0</th>\n",
       "      <td>Buffalo Trace</td>\n",
       "      <td>1</td>\n",
       "      <td>2023-08-13 13:20:00.000000</td>\n",
       "    </tr>\n",
       "    <tr>\n",
       "      <th>1</th>\n",
       "      <td>W.L. Weller Special Reserve</td>\n",
       "      <td>0</td>\n",
       "      <td>2023-08-13 13:20:00.000000</td>\n",
       "    </tr>\n",
       "    <tr>\n",
       "      <th>2</th>\n",
       "      <td>E.H. Taylor Jr. Small Batch</td>\n",
       "      <td>0</td>\n",
       "      <td>2023-08-13 13:20:00.000000</td>\n",
       "    </tr>\n",
       "    <tr>\n",
       "      <th>3</th>\n",
       "      <td>Eagle Rare</td>\n",
       "      <td>0</td>\n",
       "      <td>2023-08-13 13:20:00.000000</td>\n",
       "    </tr>\n",
       "    <tr>\n",
       "      <th>4</th>\n",
       "      <td>Blanton’s Single Barrel</td>\n",
       "      <td>0</td>\n",
       "      <td>2023-08-13 13:20:00.000000</td>\n",
       "    </tr>\n",
       "    <tr>\n",
       "      <th>...</th>\n",
       "      <td>...</td>\n",
       "      <td>...</td>\n",
       "      <td>...</td>\n",
       "    </tr>\n",
       "    <tr>\n",
       "      <th>762</th>\n",
       "      <td>Eagle Rare</td>\n",
       "      <td>0</td>\n",
       "      <td>2023-08-17 12:25:00.000000</td>\n",
       "    </tr>\n",
       "    <tr>\n",
       "      <th>763</th>\n",
       "      <td>Blanton’s Single Barrel</td>\n",
       "      <td>0</td>\n",
       "      <td>2023-08-17 12:25:00.000000</td>\n",
       "    </tr>\n",
       "    <tr>\n",
       "      <th>764</th>\n",
       "      <td>Sazerac Rye</td>\n",
       "      <td>1</td>\n",
       "      <td>2023-08-17 12:25:00.000000</td>\n",
       "    </tr>\n",
       "    <tr>\n",
       "      <th>765</th>\n",
       "      <td>Wheatley</td>\n",
       "      <td>1</td>\n",
       "      <td>2023-08-17 12:25:00.000000</td>\n",
       "    </tr>\n",
       "    <tr>\n",
       "      <th>766</th>\n",
       "      <td>Bourbon Cream</td>\n",
       "      <td>1</td>\n",
       "      <td>2023-08-17 12:25:00.000000</td>\n",
       "    </tr>\n",
       "  </tbody>\n",
       "</table>\n",
       "<p>64 rows × 3 columns</p>\n",
       "</div>"
      ],
      "text/plain": [
       "                   product_title  product_avail         product_update_time\n",
       "0                  Buffalo Trace              1  2023-08-13 13:20:00.000000\n",
       "1    W.L. Weller Special Reserve              0  2023-08-13 13:20:00.000000\n",
       "2    E.H. Taylor Jr. Small Batch              0  2023-08-13 13:20:00.000000\n",
       "3                     Eagle Rare              0  2023-08-13 13:20:00.000000\n",
       "4        Blanton’s Single Barrel              0  2023-08-13 13:20:00.000000\n",
       "..                           ...            ...                         ...\n",
       "762                   Eagle Rare              0  2023-08-17 12:25:00.000000\n",
       "763      Blanton’s Single Barrel              0  2023-08-17 12:25:00.000000\n",
       "764                  Sazerac Rye              1  2023-08-17 12:25:00.000000\n",
       "765                     Wheatley              1  2023-08-17 12:25:00.000000\n",
       "766                Bourbon Cream              1  2023-08-17 12:25:00.000000\n",
       "\n",
       "[64 rows x 3 columns]"
      ]
     },
     "execution_count": 37,
     "metadata": {},
     "output_type": "execute_result"
    }
   ],
   "source": [
    "de_duped = sub_bourbon.drop_duplicates()"
   ]
  },
  {
   "cell_type": "code",
   "execution_count": 2,
   "metadata": {},
   "outputs": [
    {
     "ename": "NameError",
     "evalue": "name 'engine' is not defined",
     "output_type": "error",
     "traceback": [
      "\u001b[0;31m---------------------------------------------------------------------------\u001b[0m",
      "\u001b[0;31mNameError\u001b[0m                                 Traceback (most recent call last)",
      "Cell \u001b[0;32mIn[2], line 1\u001b[0m\n\u001b[0;32m----> 1\u001b[0m bourbon_data \u001b[39m=\u001b[39m pd\u001b[39m.\u001b[39mread_sql(\u001b[39m\"\u001b[39m\u001b[39mselect * FROM buffalo_trace\u001b[39m\u001b[39m\"\u001b[39m, engine)\n\u001b[1;32m      2\u001b[0m today_bourbon \u001b[39m=\u001b[39m bourbon_data\\\n\u001b[1;32m      3\u001b[0m     \u001b[39m.\u001b[39mloc[pd\u001b[39m.\u001b[39mto_datetime(bourbon_data[\u001b[39m'\u001b[39m\u001b[39mproduct_update_time\u001b[39m\u001b[39m'\u001b[39m])\u001b[39m.\u001b[39mdt\u001b[39m.\u001b[39mdate \u001b[39m==\u001b[39m dt\u001b[39m.\u001b[39mdate\u001b[39m.\u001b[39mtoday() ,:]\\\n\u001b[1;32m      4\u001b[0m         \u001b[39m.\u001b[39mreset_index(drop\u001b[39m=\u001b[39m\u001b[39mTrue\u001b[39;00m)\n\u001b[1;32m      6\u001b[0m plt\u001b[39m.\u001b[39mplot(today_bourbon[\u001b[39m\"\u001b[39m\u001b[39mproduct_update_time\u001b[39m\u001b[39m\"\u001b[39m],today_bourbon[\u001b[39m\"\u001b[39m\u001b[39mproduct_avail\u001b[39m\u001b[39m\"\u001b[39m])\n",
      "\u001b[0;31mNameError\u001b[0m: name 'engine' is not defined"
     ]
    }
   ],
   "source": [
    "bourbon_data = pd.read_sql(\"select * FROM buffalo_trace\", engine)\n",
    "today_bourbon = bourbon_data\\\n",
    "    .loc[pd.to_datetime(bourbon_data['product_update_time']).dt.date == dt.date.today() ,:]\\\n",
    "        .reset_index(drop=True)\n",
    "\n",
    "plt.plot(today_bourbon[\"product_update_time\"],today_bourbon[\"product_avail\"])"
   ]
  }
 ],
 "metadata": {
  "kernelspec": {
   "display_name": ".venv",
   "language": "python",
   "name": "python3"
  },
  "language_info": {
   "codemirror_mode": {
    "name": "ipython",
    "version": 3
   },
   "file_extension": ".py",
   "mimetype": "text/x-python",
   "name": "python",
   "nbconvert_exporter": "python",
   "pygments_lexer": "ipython3",
   "version": "3.10.0"
  },
  "orig_nbformat": 4
 },
 "nbformat": 4,
 "nbformat_minor": 2
}
